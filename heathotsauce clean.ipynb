{
 "cells": [
  {
   "cell_type": "markdown",
   "metadata": {},
   "source": [
    "# CLEAN and SEPERATE heathotsauce.com data"
   ]
  },
  {
   "cell_type": "code",
   "execution_count": 107,
   "metadata": {
    "collapsed": true
   },
   "outputs": [],
   "source": [
    "import pandas as pd\n",
    "import numpy as np"
   ]
  },
  {
   "cell_type": "code",
   "execution_count": 3,
   "metadata": {},
   "outputs": [],
   "source": [
    "df = pd.read_csv('./hot_sauces.csv')"
   ]
  },
  {
   "cell_type": "code",
   "execution_count": 4,
   "metadata": {},
   "outputs": [
    {
     "data": {
      "text/html": [
       "<div>\n",
       "<style>\n",
       "    .dataframe thead tr:only-child th {\n",
       "        text-align: right;\n",
       "    }\n",
       "\n",
       "    .dataframe thead th {\n",
       "        text-align: left;\n",
       "    }\n",
       "\n",
       "    .dataframe tbody tr th {\n",
       "        vertical-align: top;\n",
       "    }\n",
       "</style>\n",
       "<table border=\"1\" class=\"dataframe\">\n",
       "  <thead>\n",
       "    <tr style=\"text-align: right;\">\n",
       "      <th></th>\n",
       "      <th>desc</th>\n",
       "      <th>mfc</th>\n",
       "      <th>names</th>\n",
       "      <th>price</th>\n",
       "      <th>url</th>\n",
       "    </tr>\n",
       "  </thead>\n",
       "  <tbody>\n",
       "    <tr>\n",
       "      <th>0</th>\n",
       "      <td>\\nA Mexican inspired blend of habanero and fre...</td>\n",
       "      <td>Arthur Wayne Hot Sauce</td>\n",
       "      <td>Spicy Mama Tamarind Hot Sauce</td>\n",
       "      <td>$ 7.99</td>\n",
       "      <td>https://heathotsauce.com/collections/all/produ...</td>\n",
       "    </tr>\n",
       "    <tr>\n",
       "      <th>1</th>\n",
       "      <td>\\nThis unique spicy vinegar is made in the pro...</td>\n",
       "      <td>Hot Winter</td>\n",
       "      <td>Hot Winter Chile Vinegar - Smoky</td>\n",
       "      <td>$ 6.99</td>\n",
       "      <td>https://heathotsauce.com/collections/all/produ...</td>\n",
       "    </tr>\n",
       "    <tr>\n",
       "      <th>2</th>\n",
       "      <td>\\n This unique spicy vinegar is made in the pr...</td>\n",
       "      <td>Hot Winter</td>\n",
       "      <td>Hot Winter Chile Vinegar - Fruity</td>\n",
       "      <td>$ 6.99</td>\n",
       "      <td>https://heathotsauce.com/collections/all/produ...</td>\n",
       "    </tr>\n",
       "    <tr>\n",
       "      <th>3</th>\n",
       "      <td>\\n This unique spicy vinegar is made in the pr...</td>\n",
       "      <td>Hot Winter</td>\n",
       "      <td>Hot Winter Chile Vinegar - Spicy</td>\n",
       "      <td>$ 6.99</td>\n",
       "      <td>https://heathotsauce.com/collections/all/produ...</td>\n",
       "    </tr>\n",
       "    <tr>\n",
       "      <th>4</th>\n",
       "      <td>\\nA bright and vibrant blend of fresh fatalii ...</td>\n",
       "      <td>Parker's Gourmet</td>\n",
       "      <td>Fatalii-racha</td>\n",
       "      <td>$ 7.99</td>\n",
       "      <td>https://heathotsauce.com/collections/all/produ...</td>\n",
       "    </tr>\n",
       "  </tbody>\n",
       "</table>\n",
       "</div>"
      ],
      "text/plain": [
       "                                                desc                     mfc  \\\n",
       "0  \\nA Mexican inspired blend of habanero and fre...  Arthur Wayne Hot Sauce   \n",
       "1  \\nThis unique spicy vinegar is made in the pro...              Hot Winter   \n",
       "2  \\n This unique spicy vinegar is made in the pr...              Hot Winter   \n",
       "3  \\n This unique spicy vinegar is made in the pr...              Hot Winter   \n",
       "4  \\nA bright and vibrant blend of fresh fatalii ...        Parker's Gourmet   \n",
       "\n",
       "                                    names   price  \\\n",
       "0       Spicy Mama Tamarind Hot Sauce      $ 7.99   \n",
       "1    Hot Winter Chile Vinegar - Smoky      $ 6.99   \n",
       "2   Hot Winter Chile Vinegar - Fruity      $ 6.99   \n",
       "3    Hot Winter Chile Vinegar - Spicy      $ 6.99   \n",
       "4                       Fatalii-racha      $ 7.99   \n",
       "\n",
       "                                                 url  \n",
       "0  https://heathotsauce.com/collections/all/produ...  \n",
       "1  https://heathotsauce.com/collections/all/produ...  \n",
       "2  https://heathotsauce.com/collections/all/produ...  \n",
       "3  https://heathotsauce.com/collections/all/produ...  \n",
       "4  https://heathotsauce.com/collections/all/produ...  "
      ]
     },
     "execution_count": 4,
     "metadata": {},
     "output_type": "execute_result"
    }
   ],
   "source": [
    "df.head()"
   ]
  },
  {
   "cell_type": "code",
   "execution_count": 5,
   "metadata": {
    "collapsed": true
   },
   "outputs": [],
   "source": [
    "# split desc into description, heat, and ingredients\n",
    "desc_str = df['desc'].apply(lambda x: x.split('\\n'))\n",
    "df['desc_split'] = desc_str.apply(lambda x: filter(None, x))"
   ]
  },
  {
   "cell_type": "code",
   "execution_count": 20,
   "metadata": {
    "collapsed": true
   },
   "outputs": [],
   "source": [
    "df['descrip'] = df['desc_split'].apply(lambda x: x[0])"
   ]
  },
  {
   "cell_type": "code",
   "execution_count": 37,
   "metadata": {},
   "outputs": [
    {
     "name": "stdout",
     "output_type": "stream",
     "text": [
      "542\n"
     ]
    }
   ],
   "source": [
    "# Extract Heat Level \n",
    "# However, it is not always in the second split of description...\n",
    "\n",
    "# use other method for the moment\n",
    "heat = []\n",
    "for n, k in enumerate(df['desc_split']):\n",
    "    for i in k[1:]:\n",
    "        if 'Heat Level:' in i:\n",
    "            heat.append(i)\n",
    "print len(heat)\n",
    "        "
   ]
  },
  {
   "cell_type": "code",
   "execution_count": 97,
   "metadata": {},
   "outputs": [],
   "source": [
    "# extract heat level text\n",
    "def splitter(x):\n",
    "    x = x.split(':')\n",
    "    if len(x) > 1:\n",
    "        return x[1]\n",
    "    else:\n",
    "        return x[0]\n",
    "\n",
    "df['heat'] = (df['desc_split']\n",
    "              .apply(lambda x: x[1])\n",
    "              .apply(lambda x: splitter(x))\n",
    "              .apply(lambda x: x.split('.')[0])\n",
    "              .apply(lambda x: x.split('/')[0])\n",
    "              .apply(lambda x: x.strip())\n",
    "              .apply(lambda x: x.lower())\n",
    "              .apply(lambda x: x.replace('\\xc2\\xa0',''))\n",
    "              .apply(lambda x: x.replace('\\xef\\xbb\\xbf','')))"
   ]
  },
  {
   "cell_type": "code",
   "execution_count": 108,
   "metadata": {},
   "outputs": [],
   "source": [
    "# extract heat level in clean manner\n",
    "level = []\n",
    "lvls = ['mild', 'medium', 'hot', 'extra hot', 'extreme']\n",
    "for i in df['heat']:\n",
    "    if i in lvls:\n",
    "        level.append(i)\n",
    "    else:\n",
    "        level.append(np.nan)\n",
    "df['heat_lvl'] = level"
   ]
  },
  {
   "cell_type": "code",
   "execution_count": 148,
   "metadata": {},
   "outputs": [],
   "source": [
    "# df2 = pd.concat([df[['mfc', 'names']], pd.get_dummies(df['heat_lvl'])], axis=1)"
   ]
  },
  {
   "cell_type": "code",
   "execution_count": 159,
   "metadata": {},
   "outputs": [
    {
     "name": "stdout",
     "output_type": "stream",
     "text": [
      "483\n",
      "483\n"
     ]
    }
   ],
   "source": [
    "# Extract Heat Level \n",
    "# However, it is not always in the second split of description...\n",
    "\n",
    "# use other method for the moment\n",
    "ing = []\n",
    "name = []\n",
    "for n, k in zip(df['names'], df['desc_split']):\n",
    "    for i in k:\n",
    "        if 'Ingredients:' in i:\n",
    "            ing.append(i)\n",
    "            name.append(n)\n",
    "print len(ing)\n",
    "print len(name)\n",
    "df_ing = pd.DataFrame({'ing':ing, 'names':name})"
   ]
  },
  {
   "cell_type": "code",
   "execution_count": 163,
   "metadata": {},
   "outputs": [],
   "source": [
    "# create new df with ingredients list connected to name of sauce\n",
    "df2 = pd.merge(df, df_ing, on='names')"
   ]
  },
  {
   "cell_type": "code",
   "execution_count": 170,
   "metadata": {},
   "outputs": [],
   "source": [
    "# remove 'Ingredients: ' from column\n",
    "df2['ing'] = df2['ing'].apply(lambda x: x.replace('Ingredients: ', ''))"
   ]
  },
  {
   "cell_type": "code",
   "execution_count": 180,
   "metadata": {},
   "outputs": [],
   "source": [
    "# turn price to a float\n",
    "df2['price'] = df2['price'].apply(lambda x: float(x.replace('$ ', '')))"
   ]
  },
  {
   "cell_type": "code",
   "execution_count": 199,
   "metadata": {},
   "outputs": [
    {
     "data": {
      "image/png": "[encoded data removed]",
      "text/plain": [
       "<matplotlib.figure.Figure at 0x11ade3c90>"
      ]
     },
     "metadata": {},
     "output_type": "display_data"
    }
   ],
   "source": [
    "# print distribution of prices\n",
    "import matplotlib.pyplot as plt\n",
    "df2[df2['price'] < 20]['price'].hist(bins = 12)\n",
    "plt.show()"
   ]
  },
  {
   "cell_type": "code",
   "execution_count": 195,
   "metadata": {},
   "outputs": [
    {
     "name": "stdout",
     "output_type": "stream",
     "text": [
      "https://heathotsauce.com/collections/all/products/yellowbird-habanero-1-gallon-jug\n",
      "https://heathotsauce.com/collections/all/products/pure-evil-13-million-shu\n",
      "https://heathotsauce.com/collections/all/products/pure-evil-9-6-million-shu\n",
      "https://heathotsauce.com/collections/all/products/pure-evil-1-5-million-shu\n"
     ]
    }
   ],
   "source": [
    "# see urls of sauces with price > 20\n",
    "for i in df2[df2['price'] > 20]['url']:\n",
    "    print i"
   ]
  },
  {
   "cell_type": "code",
   "execution_count": 203,
   "metadata": {
    "collapsed": true
   },
   "outputs": [],
   "source": [
    "# save to csv\n",
    "df2.to_csv('hot_sauce_clean.csv', encoding='utf-8')"
   ]
  },
  {
   "cell_type": "code",
   "execution_count": null,
   "metadata": {
    "collapsed": true
   },
   "outputs": [],
   "source": []
  }
 ],
 "metadata": {
  "kernelspec": {
   "display_name": "Python 2",
   "language": "python",
   "name": "python2"
  },
  "language_info": {
   "codemirror_mode": {
    "name": "ipython",
    "version": 2
   },
   "file_extension": ".py",
   "mimetype": "text/x-python",
   "name": "python",
   "nbconvert_exporter": "python",
   "pygments_lexer": "ipython2",
   "version": "2.7.13"
  }
 },
 "nbformat": 4,
 "nbformat_minor": 2
}
