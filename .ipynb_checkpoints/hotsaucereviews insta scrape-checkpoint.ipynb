{
 "cells": [
  {
   "cell_type": "markdown",
   "metadata": {},
   "source": [
    "## Hot Sauce Data Scrape\n",
    "Scrape data on hot sauce from Instagram username: hotsaucereviews\n",
    "\n",
    "Data scraped with instagram-scraper tool available here: https://github.com/rarcega/instagram-scraper"
   ]
  },
  {
   "cell_type": "code",
   "execution_count": 1,
   "metadata": {
    "collapsed": true
   },
   "outputs": [],
   "source": [
    "import pandas as pd"
   ]
  },
  {
   "cell_type": "code",
   "execution_count": 2,
   "metadata": {
    "collapsed": true
   },
   "outputs": [],
   "source": [
    "data = pd.read_json('./hotsaucereviews/hotsaucereviews.json')\n",
    "captions = data['caption']"
   ]
  },
  {
   "cell_type": "code",
   "execution_count": 3,
   "metadata": {},
   "outputs": [
    {
     "data": {
      "text/plain": [
       "{u'created_time': u'1491514262',\n",
       " u'from': {u'full_name': u'100% Honest &Authentic Reviews',\n",
       "  u'id': u'3225288138',\n",
       "  u'profile_picture': u'https://scontent-lga3-1.cdninstagram.com/t51.2885-19/s150x150/14730721_1712646529055730_263379892945551360_a.jpg',\n",
       "  u'username': u'hotsaucereviews'},\n",
       " u'id': u'17853157054163531',\n",
       " u'text': u'Find it here: www.lazysoulusa.com Title: Lazy Soul Hot Sauce Company: Lazy Soul LLC Description: With its roots in the Caribbean, Lazy Soul is a unique, handcrafted hot sauce that combines the tropical flavor of mango, mustard, and spices, along with the kick of habanero peppers, to create the perfect blend of sweet and heat. Ingredients: Mango, Mustard, Distilled Water, Distilled Vinegar, pasteurized 100% Orange Juice, Brown Sugar, Habanero Peppers, Minced Garlic, Spices.  This product is All-Natural, Gluten Free, and has No Preservatives.  Smell: What an interesting aroma, I thought the first thing I would smell would be mango, but it\\u2019s the mustard, as you get this thick pungent smell from the mustard, as you get the turmeric and paprika in the forefront from the mustard, along with the minced garlic, toward the background you can pick out the mango and the citrusy habanero.  This is a unique aroma for a sauce and I dig it. Pour: A thick sauce but not chunky, as it has an almost creamy texture and pour from the bottle. Taste: This sauce is not lazy at all, as its extremely flavorful.  The texture of this sauce is beautiful.  Right in the front you get smacked with the mango and the citrus sweetness of the habaneros and orange juice, then you are swept away by the tanginess of the mustard and spices along with some savory notes from the garlic, then as you swallow the sauce and finish the journey you are pushed back into the sweetness of the mango and habanero, as you quickly finish off with a VERY mild vinegar zip.  This sauce would be fantastic on almost anything, marinated for chicken, burgers, steak, pizza, eggs.  This sauce gets a 10/10, as they completely exceeded my expectations on a delicious Caribbean sauce.  Heat: This is a very mild/medium habanero sauce as you get a nice tingle on the tongue that anyone would be able to enjoy. I would give this a 3/10 on heat. #hotsauce #hotsauces #hotsaucelover #hotsauceaddict #hotsauceoneverything #hotsauceinmybag #chilihead #chiliheads #chilisauce #pepperhead #peppersauce #spicyfood #carribeanfood #habanero #habaneros #mango #mustardyellow #mustard #hotones #buffalowings #hotsaucereview'}"
      ]
     },
     "execution_count": 3,
     "metadata": {},
     "output_type": "execute_result"
    }
   ],
   "source": [
    "# see a caption from one sample post\n",
    "captions[42]"
   ]
  },
  {
   "cell_type": "code",
   "execution_count": 4,
   "metadata": {
    "collapsed": true
   },
   "outputs": [],
   "source": [
    "# Create strings of caption text to parse through\n",
    "text = []\n",
    "for i in range(len(captions)):\n",
    "    text.append(captions[i]['text'])  "
   ]
  },
  {
   "cell_type": "code",
   "execution_count": 5,
   "metadata": {
    "collapsed": true
   },
   "outputs": [],
   "source": [
    "# name of sauce\n",
    "ids = []\n",
    "name = []\n",
    "for n, i in enumerate(text):\n",
    "    try:\n",
    "        name.append(i.split('Title')[1].split('Description')[0].split('Company')[0])\n",
    "        ids.append(n)\n",
    "    except:\n",
    "        name.append('')\n",
    "        ids.append(n)\n",
    "        "
   ]
  },
  {
   "cell_type": "code",
   "execution_count": 6,
   "metadata": {
    "collapsed": true
   },
   "outputs": [],
   "source": [
    "# company name\n",
    "company = []\n",
    "for n, i in enumerate(text):\n",
    "    try:\n",
    "        company.append(i.split('Title')[1].split('Description')[0].split('Company')[1].split('Ingredients')[0])\n",
    "    except:\n",
    "        company.append('')"
   ]
  },
  {
   "cell_type": "code",
   "execution_count": 7,
   "metadata": {
    "collapsed": true
   },
   "outputs": [],
   "source": [
    "# website\n",
    "site = []\n",
    "for n, i in enumerate(text):\n",
    "    try:\n",
    "        site.append(i.split('Find it here')[1].split('Title')[0])\n",
    "    except:\n",
    "        site.append('')"
   ]
  },
  {
   "cell_type": "code",
   "execution_count": 8,
   "metadata": {
    "collapsed": true
   },
   "outputs": [],
   "source": [
    "# description\n",
    "descr = []\n",
    "for i in text:\n",
    "    try:\n",
    "        descr.append(i.split('Description')[1].split('Ingredients')[0].split('Smell')[0])\n",
    "    except:\n",
    "        descr.append('')"
   ]
  },
  {
   "cell_type": "code",
   "execution_count": 9,
   "metadata": {
    "collapsed": true
   },
   "outputs": [],
   "source": [
    "# ingredients\n",
    "ingredients = []\n",
    "for i in text:\n",
    "    try:\n",
    "        ingredients.append(i.split('Ingredients')[1].split('Smell')[0].split('Label')[0])\n",
    "    except:\n",
    "        ingredients.append('')"
   ]
  },
  {
   "cell_type": "code",
   "execution_count": 10,
   "metadata": {
    "collapsed": true
   },
   "outputs": [],
   "source": [
    "# smell\n",
    "smell = []\n",
    "for i in text:\n",
    "    try:\n",
    "        smell.append(i.split('Smell')[1].split('Pour')[0].split('Taste')[0].split('Color')[0])\n",
    "    except:\n",
    "        smell.append('')"
   ]
  },
  {
   "cell_type": "code",
   "execution_count": 11,
   "metadata": {
    "collapsed": true
   },
   "outputs": [],
   "source": [
    "# color\n",
    "color = []\n",
    "for i in text:\n",
    "    try:\n",
    "        color.append(i.split('Color')[1].split('Pour')[0].split('Taste')[0])\n",
    "    except:\n",
    "        color.append('')"
   ]
  },
  {
   "cell_type": "code",
   "execution_count": 12,
   "metadata": {
    "collapsed": true
   },
   "outputs": [],
   "source": [
    "# pour\n",
    "pour = []\n",
    "for i in text:\n",
    "    try:\n",
    "        pour.append(i.split('Pour')[1].split('Taste')[0].split('Color')[0])\n",
    "    except:\n",
    "        pour.append('')"
   ]
  },
  {
   "cell_type": "code",
   "execution_count": 13,
   "metadata": {
    "collapsed": true
   },
   "outputs": [],
   "source": [
    "# taste\n",
    "taste = []\n",
    "for i in text:\n",
    "    try:\n",
    "        taste.append(i.split('Taste')[1].split('Heat')[0].split('Color')[0])\n",
    "    except:\n",
    "        taste.append('')"
   ]
  },
  {
   "cell_type": "code",
   "execution_count": 14,
   "metadata": {
    "collapsed": true
   },
   "outputs": [],
   "source": [
    "# heat\n",
    "heat = []\n",
    "for i in text:\n",
    "    try:\n",
    "        heat.append(i.split('Heat:')[1].split('#')[0])\n",
    "    except:\n",
    "        heat.append('')"
   ]
  },
  {
   "cell_type": "code",
   "execution_count": 82,
   "metadata": {
    "collapsed": true
   },
   "outputs": [],
   "source": [
    "df = pd.DataFrame({'name':name, 'company':company, \n",
    "                  'site':site, 'ingredients':ingredients,\n",
    "                  'smell':smell, 'pour':pour, 'taste':taste,\n",
    "                  'heat':heat, 'color':color, 'link': data['link']})"
   ]
  },
  {
   "cell_type": "code",
   "execution_count": null,
   "metadata": {
    "collapsed": true
   },
   "outputs": [],
   "source": []
  },
  {
   "cell_type": "code",
   "execution_count": null,
   "metadata": {
    "collapsed": true
   },
   "outputs": [],
   "source": []
  },
  {
   "cell_type": "code",
   "execution_count": null,
   "metadata": {
    "collapsed": true
   },
   "outputs": [],
   "source": []
  },
  {
   "cell_type": "code",
   "execution_count": null,
   "metadata": {
    "collapsed": true
   },
   "outputs": [],
   "source": []
  },
  {
   "cell_type": "code",
   "execution_count": null,
   "metadata": {
    "collapsed": true
   },
   "outputs": [],
   "source": []
  },
  {
   "cell_type": "markdown",
   "metadata": {},
   "source": [
    "## Clean Hot Sauce DF"
   ]
  },
  {
   "cell_type": "code",
   "execution_count": 91,
   "metadata": {
    "collapsed": true
   },
   "outputs": [],
   "source": [
    "# remove extra punctuation from text\n",
    "# df = df.applymap(lambda x: x.replace(':', '').replace('-','').strip())\n",
    "\n",
    "# this messes with the links column. fix to not touch links"
   ]
  },
  {
   "cell_type": "code",
   "execution_count": 84,
   "metadata": {
    "collapsed": true
   },
   "outputs": [],
   "source": [
    "# extract numerical ratings\n",
    "\n",
    "# taste\n",
    "df['taste_rating'] = pd.to_numeric(df['taste'].str.extract('([\\d\\.]{1,3})/', expand = False), errors='coerce')\n",
    "df['taste_rating_max'] = pd.to_numeric(df['taste'].str.extract('/([\\d]{2})', expand = False), errors='coerce')\n",
    "\n",
    "#heat\n",
    "df['heat_rating'] = pd.to_numeric(df['heat'].str.extract('([\\d\\.]{1,3})/', expand = False), errors='coerce')\n",
    "df['heat_rating_max'] = pd.to_numeric(df['heat'].str.extract('/([\\d]{2})', expand = False), errors='coerce')"
   ]
  },
  {
   "cell_type": "code",
   "execution_count": 85,
   "metadata": {},
   "outputs": [],
   "source": [
    "# Save to CSV\n",
    "df.to_csv('./data/hotsaucereviews_insta_df.csv', encoding='utf-8')\n",
    "# pickle\n",
    "df.to_pickle('./data/hotsaucereviews_insta_df.pkl')"
   ]
  },
  {
   "cell_type": "markdown",
   "metadata": {
    "collapsed": true
   },
   "source": [
    "## EDA"
   ]
  },
  {
   "cell_type": "code",
   "execution_count": 86,
   "metadata": {
    "collapsed": true
   },
   "outputs": [],
   "source": [
    "import matplotlib.pyplot as plt\n",
    "%matplotlib inline\n",
    "\n",
    "from sklearn.linear_model import LinearRegression"
   ]
  },
  {
   "cell_type": "code",
   "execution_count": 87,
   "metadata": {},
   "outputs": [],
   "source": [
    "# drop NA rows\n",
    "df2 = df[['taste_rating', 'heat_rating']].dropna()\n",
    "\n",
    "# predict rating based on heat\n",
    "lm = LinearRegression()\n",
    "lm.fit(df2[['heat_rating']], df2['taste_rating'])\n",
    "predicts = lm.predict(df2[['heat_rating']])"
   ]
  },
  {
   "cell_type": "code",
   "execution_count": 88,
   "metadata": {},
   "outputs": [
    {
     "name": "stdout",
     "output_type": "stream",
     "text": [
      "0.0953195451288 7.99317565578\n"
     ]
    }
   ],
   "source": [
    "print lm.coef_[0], lm.intercept_"
   ]
  },
  {
   "cell_type": "code",
   "execution_count": 89,
   "metadata": {},
   "outputs": [
    {
     "data": {
      "text/plain": [
       "<matplotlib.text.Text at 0x11e671910>"
      ]
     },
     "execution_count": 89,
     "metadata": {},
     "output_type": "execute_result"
    },
    {
     "data": {
      "image/png": "[encoded data removed]",
      "text/plain": [
       "<matplotlib.figure.Figure at 0x11b48c110>"
      ]
     },
     "metadata": {},
     "output_type": "display_data"
    }
   ],
   "source": [
    "plt.scatter(df2['heat_rating'], df2['taste_rating'])\n",
    "plt.plot(df2['heat_rating'], predicts, color = 'red')\n",
    "plt.xlabel('heat_rating')\n",
    "plt.ylabel('taste_rating')"
   ]
  },
  {
   "cell_type": "code",
   "execution_count": null,
   "metadata": {
    "collapsed": true
   },
   "outputs": [],
   "source": []
  },
  {
   "cell_type": "code",
   "execution_count": null,
   "metadata": {
    "collapsed": true
   },
   "outputs": [],
   "source": []
  },
  {
   "cell_type": "code",
   "execution_count": null,
   "metadata": {
    "collapsed": true
   },
   "outputs": [],
   "source": []
  },
  {
   "cell_type": "code",
   "execution_count": null,
   "metadata": {
    "collapsed": true
   },
   "outputs": [],
   "source": []
  },
  {
   "cell_type": "code",
   "execution_count": null,
   "metadata": {
    "collapsed": true
   },
   "outputs": [],
   "source": []
  },
  {
   "cell_type": "code",
   "execution_count": null,
   "metadata": {
    "collapsed": true
   },
   "outputs": [],
   "source": []
  }
 ],
 "metadata": {
  "kernelspec": {
   "display_name": "Python 2",
   "language": "python",
   "name": "python2"
  },
  "language_info": {
   "codemirror_mode": {
    "name": "ipython",
    "version": 2
   },
   "file_extension": ".py",
   "mimetype": "text/x-python",
   "name": "python",
   "nbconvert_exporter": "python",
   "pygments_lexer": "ipython2",
   "version": "2.7.13"
  }
 },
 "nbformat": 4,
 "nbformat_minor": 2
}
